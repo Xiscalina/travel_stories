{
  "nbformat": 4,
  "nbformat_minor": 0,
  "metadata": {
    "colab": {
      "name": "eur_countries.ipynb",
      "version": "0.3.2",
      "provenance": []
    },
    "kernelspec": {
      "display_name": "Python 3",
      "language": "python",
      "name": "python3"
    }
  },
  "cells": [
    {
      "metadata": {
        "id": "ngJ16IVAS-_y",
        "colab_type": "code",
        "colab": {
          "base_uri": "https://localhost:8080/",
          "height": 238
        },
        "outputId": "b66d8f23-1b1c-4a3f-9d81-2023218eaa54"
      },
      "cell_type": "code",
      "source": [
        "!pip install geopandas\n",
        "# Geopandas\n",
        "import geopandas as gpd\n",
        "# Inline plots\n",
        "%matplotlib inline"
      ],
      "execution_count": 3,
      "outputs": [
        {
          "output_type": "stream",
          "text": [
            "Requirement already satisfied: geopandas in /usr/local/lib/python3.6/dist-packages (0.4.0)\n",
            "Requirement already satisfied: pandas in /usr/local/lib/python3.6/dist-packages (from geopandas) (0.22.0)\n",
            "Requirement already satisfied: shapely in /usr/local/lib/python3.6/dist-packages (from geopandas) (1.6.4.post2)\n",
            "Requirement already satisfied: fiona in /usr/local/lib/python3.6/dist-packages (from geopandas) (1.7.13)\n",
            "Requirement already satisfied: pyproj in /usr/local/lib/python3.6/dist-packages (from geopandas) (1.9.5.1)\n",
            "Requirement already satisfied: pytz>=2011k in /usr/local/lib/python3.6/dist-packages (from pandas->geopandas) (2018.5)\n",
            "Requirement already satisfied: python-dateutil>=2 in /usr/local/lib/python3.6/dist-packages (from pandas->geopandas) (2.5.3)\n",
            "Requirement already satisfied: numpy>=1.9.0 in /usr/local/lib/python3.6/dist-packages (from pandas->geopandas) (1.14.5)\n",
            "Requirement already satisfied: six>=1.7 in /usr/local/lib/python3.6/dist-packages (from fiona->geopandas) (1.11.0)\n",
            "Requirement already satisfied: munch in /usr/local/lib/python3.6/dist-packages (from fiona->geopandas) (2.3.2)\n",
            "Requirement already satisfied: click-plugins in /usr/local/lib/python3.6/dist-packages (from fiona->geopandas) (1.0.3)\n",
            "Requirement already satisfied: cligj>=0.4 in /usr/local/lib/python3.6/dist-packages (from fiona->geopandas) (0.4.0)\n",
            "Requirement already satisfied: click>=3.0 in /usr/local/lib/python3.6/dist-packages (from click-plugins->fiona->geopandas) (6.7)\n"
          ],
          "name": "stdout"
        }
      ]
    },
    {
      "metadata": {
        "id": "R1t_rx6hS_A3",
        "colab_type": "text"
      },
      "cell_type": "markdown",
      "source": [
        "Geopandas is a very useful library for geographic manipulations. It also includes some datasets, among which we have one with world countries:"
      ]
    },
    {
      "metadata": {
        "id": "jRgIi41WS_A6",
        "colab_type": "code",
        "colab": {
          "base_uri": "https://localhost:8080/",
          "height": 204
        },
        "outputId": "6e86a205-fddf-4ca7-d40e-04b932b5969e"
      },
      "cell_type": "code",
      "source": [
        "# Read countries\n",
        "countries = gpd.read_file(gpd.datasets.get_path('naturalearth_lowres'))    # already in geopandas\n",
        "countries.head()"
      ],
      "execution_count": 4,
      "outputs": [
        {
          "output_type": "execute_result",
          "data": {
            "text/html": [
              "<div>\n",
              "<style scoped>\n",
              "    .dataframe tbody tr th:only-of-type {\n",
              "        vertical-align: middle;\n",
              "    }\n",
              "\n",
              "    .dataframe tbody tr th {\n",
              "        vertical-align: top;\n",
              "    }\n",
              "\n",
              "    .dataframe thead th {\n",
              "        text-align: right;\n",
              "    }\n",
              "</style>\n",
              "<table border=\"1\" class=\"dataframe\">\n",
              "  <thead>\n",
              "    <tr style=\"text-align: right;\">\n",
              "      <th></th>\n",
              "      <th>pop_est</th>\n",
              "      <th>continent</th>\n",
              "      <th>name</th>\n",
              "      <th>iso_a3</th>\n",
              "      <th>gdp_md_est</th>\n",
              "      <th>geometry</th>\n",
              "    </tr>\n",
              "  </thead>\n",
              "  <tbody>\n",
              "    <tr>\n",
              "      <th>0</th>\n",
              "      <td>28400000.0</td>\n",
              "      <td>Asia</td>\n",
              "      <td>Afghanistan</td>\n",
              "      <td>AFG</td>\n",
              "      <td>22270.0</td>\n",
              "      <td>POLYGON ((61.21081709172574 35.65007233330923,...</td>\n",
              "    </tr>\n",
              "    <tr>\n",
              "      <th>1</th>\n",
              "      <td>12799293.0</td>\n",
              "      <td>Africa</td>\n",
              "      <td>Angola</td>\n",
              "      <td>AGO</td>\n",
              "      <td>110300.0</td>\n",
              "      <td>(POLYGON ((16.32652835456705 -5.87747039146621...</td>\n",
              "    </tr>\n",
              "    <tr>\n",
              "      <th>2</th>\n",
              "      <td>3639453.0</td>\n",
              "      <td>Europe</td>\n",
              "      <td>Albania</td>\n",
              "      <td>ALB</td>\n",
              "      <td>21810.0</td>\n",
              "      <td>POLYGON ((20.59024743010491 41.85540416113361,...</td>\n",
              "    </tr>\n",
              "    <tr>\n",
              "      <th>3</th>\n",
              "      <td>4798491.0</td>\n",
              "      <td>Asia</td>\n",
              "      <td>United Arab Emirates</td>\n",
              "      <td>ARE</td>\n",
              "      <td>184300.0</td>\n",
              "      <td>POLYGON ((51.57951867046327 24.24549713795111,...</td>\n",
              "    </tr>\n",
              "    <tr>\n",
              "      <th>4</th>\n",
              "      <td>40913584.0</td>\n",
              "      <td>South America</td>\n",
              "      <td>Argentina</td>\n",
              "      <td>ARG</td>\n",
              "      <td>573900.0</td>\n",
              "      <td>(POLYGON ((-65.50000000000003 -55.199999999999...</td>\n",
              "    </tr>\n",
              "  </tbody>\n",
              "</table>\n",
              "</div>"
            ],
            "text/plain": [
              "      pop_est      continent                  name iso_a3  gdp_md_est  \\\n",
              "0  28400000.0           Asia           Afghanistan    AFG     22270.0   \n",
              "1  12799293.0         Africa                Angola    AGO    110300.0   \n",
              "2   3639453.0         Europe               Albania    ALB     21810.0   \n",
              "3   4798491.0           Asia  United Arab Emirates    ARE    184300.0   \n",
              "4  40913584.0  South America             Argentina    ARG    573900.0   \n",
              "\n",
              "                                            geometry  \n",
              "0  POLYGON ((61.21081709172574 35.65007233330923,...  \n",
              "1  (POLYGON ((16.32652835456705 -5.87747039146621...  \n",
              "2  POLYGON ((20.59024743010491 41.85540416113361,...  \n",
              "3  POLYGON ((51.57951867046327 24.24549713795111,...  \n",
              "4  (POLYGON ((-65.50000000000003 -55.199999999999...  "
            ]
          },
          "metadata": {
            "tags": []
          },
          "execution_count": 4
        }
      ]
    },
    {
      "metadata": {
        "id": "3bqWdEqjS_BH",
        "colab_type": "text"
      },
      "cell_type": "markdown",
      "source": [
        "Let us filter the European countries, and index the dataframe by country name:"
      ]
    },
    {
      "metadata": {
        "id": "qEfd6724S_BK",
        "colab_type": "code",
        "colab": {
          "base_uri": "https://localhost:8080/",
          "height": 252
        },
        "outputId": "265753bf-88ce-48a3-8d6e-54943fdd61b7"
      },
      "cell_type": "code",
      "source": [
        "# European countries\n",
        "eur_countries = countries.loc[countries['continent'] == 'Europe'].set_index('name')\n",
        "print(len(eur_countries))\n",
        "eur_countries.head()"
      ],
      "execution_count": 5,
      "outputs": [
        {
          "output_type": "stream",
          "text": [
            "39\n"
          ],
          "name": "stdout"
        },
        {
          "output_type": "execute_result",
          "data": {
            "text/html": [
              "<div>\n",
              "<style scoped>\n",
              "    .dataframe tbody tr th:only-of-type {\n",
              "        vertical-align: middle;\n",
              "    }\n",
              "\n",
              "    .dataframe tbody tr th {\n",
              "        vertical-align: top;\n",
              "    }\n",
              "\n",
              "    .dataframe thead th {\n",
              "        text-align: right;\n",
              "    }\n",
              "</style>\n",
              "<table border=\"1\" class=\"dataframe\">\n",
              "  <thead>\n",
              "    <tr style=\"text-align: right;\">\n",
              "      <th></th>\n",
              "      <th>pop_est</th>\n",
              "      <th>continent</th>\n",
              "      <th>iso_a3</th>\n",
              "      <th>gdp_md_est</th>\n",
              "      <th>geometry</th>\n",
              "    </tr>\n",
              "    <tr>\n",
              "      <th>name</th>\n",
              "      <th></th>\n",
              "      <th></th>\n",
              "      <th></th>\n",
              "      <th></th>\n",
              "      <th></th>\n",
              "    </tr>\n",
              "  </thead>\n",
              "  <tbody>\n",
              "    <tr>\n",
              "      <th>Albania</th>\n",
              "      <td>3639453.0</td>\n",
              "      <td>Europe</td>\n",
              "      <td>ALB</td>\n",
              "      <td>21810.0</td>\n",
              "      <td>POLYGON ((20.59024743010491 41.85540416113361,...</td>\n",
              "    </tr>\n",
              "    <tr>\n",
              "      <th>Austria</th>\n",
              "      <td>8210281.0</td>\n",
              "      <td>Europe</td>\n",
              "      <td>AUT</td>\n",
              "      <td>329500.0</td>\n",
              "      <td>POLYGON ((16.97966678230404 48.12349701597631,...</td>\n",
              "    </tr>\n",
              "    <tr>\n",
              "      <th>Belgium</th>\n",
              "      <td>10414336.0</td>\n",
              "      <td>Europe</td>\n",
              "      <td>BEL</td>\n",
              "      <td>389300.0</td>\n",
              "      <td>POLYGON ((3.314971144228537 51.34578095153609,...</td>\n",
              "    </tr>\n",
              "    <tr>\n",
              "      <th>Bulgaria</th>\n",
              "      <td>7204687.0</td>\n",
              "      <td>Europe</td>\n",
              "      <td>BGR</td>\n",
              "      <td>93750.0</td>\n",
              "      <td>POLYGON ((22.65714969248299 44.23492300066128,...</td>\n",
              "    </tr>\n",
              "    <tr>\n",
              "      <th>Bosnia and Herz.</th>\n",
              "      <td>4613414.0</td>\n",
              "      <td>Europe</td>\n",
              "      <td>BIH</td>\n",
              "      <td>29700.0</td>\n",
              "      <td>POLYGON ((19.00548628101012 44.86023366960916,...</td>\n",
              "    </tr>\n",
              "  </tbody>\n",
              "</table>\n",
              "</div>"
            ],
            "text/plain": [
              "                     pop_est continent iso_a3  gdp_md_est  \\\n",
              "name                                                        \n",
              "Albania            3639453.0    Europe    ALB     21810.0   \n",
              "Austria            8210281.0    Europe    AUT    329500.0   \n",
              "Belgium           10414336.0    Europe    BEL    389300.0   \n",
              "Bulgaria           7204687.0    Europe    BGR     93750.0   \n",
              "Bosnia and Herz.   4613414.0    Europe    BIH     29700.0   \n",
              "\n",
              "                                                           geometry  \n",
              "name                                                                 \n",
              "Albania           POLYGON ((20.59024743010491 41.85540416113361,...  \n",
              "Austria           POLYGON ((16.97966678230404 48.12349701597631,...  \n",
              "Belgium           POLYGON ((3.314971144228537 51.34578095153609,...  \n",
              "Bulgaria          POLYGON ((22.65714969248299 44.23492300066128,...  \n",
              "Bosnia and Herz.  POLYGON ((19.00548628101012 44.86023366960916,...  "
            ]
          },
          "metadata": {
            "tags": []
          },
          "execution_count": 5
        }
      ]
    },
    {
      "metadata": {
        "id": "31qlZP8eS_BU",
        "colab_type": "text"
      },
      "cell_type": "markdown",
      "source": [
        "Only 39 countries in Europe? Well, it turns out that this dataset does not include small ones, such as Andorra, Monaco, Liechtenstein, San Marino, etc. Anyway, let's add a column with a flag stating whether I've been to these countries or not:"
      ]
    },
    {
      "metadata": {
        "id": "lYK9vE-rS_BW",
        "colab_type": "code",
        "colab": {
          "base_uri": "https://localhost:8080/",
          "height": 680
        },
        "outputId": "d527abe9-019f-4711-b624-15f5808f6632"
      },
      "cell_type": "code",
      "source": [
        "# Ask myself whether I've been to these countries, and store answer\n",
        "for c in eur_countries.index:\n",
        "    ans = input(prompt=\"Have you been to {}? (y/n) \".format(c))\n",
        "    eur_countries.loc[c, 'been_to'] = ans"
      ],
      "execution_count": 6,
      "outputs": [
        {
          "output_type": "stream",
          "text": [
            "Have you been to Albania? (y/n) n\n",
            "Have you been to Austria? (y/n) y\n",
            "Have you been to Belgium? (y/n) y\n",
            "Have you been to Bulgaria? (y/n) y\n",
            "Have you been to Bosnia and Herz.? (y/n) n\n",
            "Have you been to Belarus? (y/n) n\n",
            "Have you been to Switzerland? (y/n) y\n",
            "Have you been to Czech Rep.? (y/n) n\n",
            "Have you been to Germany? (y/n) y\n",
            "Have you been to Denmark? (y/n) n\n",
            "Have you been to Spain? (y/n) y\n",
            "Have you been to Estonia? (y/n) n\n",
            "Have you been to Finland? (y/n) n\n",
            "Have you been to France? (y/n) y\n",
            "Have you been to United Kingdom? (y/n) n\n",
            "Have you been to Greece? (y/n) y\n",
            "Have you been to Croatia? (y/n) n\n",
            "Have you been to Hungary? (y/n) y\n",
            "Have you been to Ireland? (y/n) n\n",
            "Have you been to Iceland? (y/n) n\n",
            "Have you been to Italy? (y/n) y\n",
            "Have you been to Kosovo? (y/n) n\n",
            "Have you been to Lithuania? (y/n) n\n",
            "Have you been to Luxembourg? (y/n) n\n",
            "Have you been to Latvia? (y/n) n\n",
            "Have you been to Moldova? (y/n) n\n",
            "Have you been to Macedonia? (y/n) n\n",
            "Have you been to Montenegro? (y/n) n\n",
            "Have you been to Netherlands? (y/n) n\n",
            "Have you been to Norway? (y/n) n\n",
            "Have you been to Poland? (y/n) n\n",
            "Have you been to Portugal? (y/n) n\n",
            "Have you been to Romania? (y/n) y\n",
            "Have you been to Russia? (y/n) n\n",
            "Have you been to Serbia? (y/n) n\n",
            "Have you been to Slovakia? (y/n) n\n",
            "Have you been to Slovenia? (y/n) y\n",
            "Have you been to Sweden? (y/n) n\n",
            "Have you been to Ukraine? (y/n) n\n"
          ],
          "name": "stdout"
        }
      ]
    },
    {
      "metadata": {
        "id": "70nFIeKhS_Bg",
        "colab_type": "text"
      },
      "cell_type": "markdown",
      "source": [
        "And check that the column has been added:"
      ]
    },
    {
      "metadata": {
        "id": "BOuo-gK6S_Bh",
        "colab_type": "code",
        "colab": {
          "base_uri": "https://localhost:8080/",
          "height": 235
        },
        "outputId": "ee85ec47-94c0-4d6d-a024-5ca3f92deab4"
      },
      "cell_type": "code",
      "source": [
        "eur_countries.head()"
      ],
      "execution_count": 8,
      "outputs": [
        {
          "output_type": "execute_result",
          "data": {
            "text/html": [
              "<div>\n",
              "<style scoped>\n",
              "    .dataframe tbody tr th:only-of-type {\n",
              "        vertical-align: middle;\n",
              "    }\n",
              "\n",
              "    .dataframe tbody tr th {\n",
              "        vertical-align: top;\n",
              "    }\n",
              "\n",
              "    .dataframe thead th {\n",
              "        text-align: right;\n",
              "    }\n",
              "</style>\n",
              "<table border=\"1\" class=\"dataframe\">\n",
              "  <thead>\n",
              "    <tr style=\"text-align: right;\">\n",
              "      <th></th>\n",
              "      <th>pop_est</th>\n",
              "      <th>continent</th>\n",
              "      <th>iso_a3</th>\n",
              "      <th>gdp_md_est</th>\n",
              "      <th>geometry</th>\n",
              "      <th>been_to</th>\n",
              "    </tr>\n",
              "    <tr>\n",
              "      <th>name</th>\n",
              "      <th></th>\n",
              "      <th></th>\n",
              "      <th></th>\n",
              "      <th></th>\n",
              "      <th></th>\n",
              "      <th></th>\n",
              "    </tr>\n",
              "  </thead>\n",
              "  <tbody>\n",
              "    <tr>\n",
              "      <th>Albania</th>\n",
              "      <td>3639453.0</td>\n",
              "      <td>Europe</td>\n",
              "      <td>ALB</td>\n",
              "      <td>21810.0</td>\n",
              "      <td>POLYGON ((20.59024743010491 41.85540416113361,...</td>\n",
              "      <td>n</td>\n",
              "    </tr>\n",
              "    <tr>\n",
              "      <th>Austria</th>\n",
              "      <td>8210281.0</td>\n",
              "      <td>Europe</td>\n",
              "      <td>AUT</td>\n",
              "      <td>329500.0</td>\n",
              "      <td>POLYGON ((16.97966678230404 48.12349701597631,...</td>\n",
              "      <td>y</td>\n",
              "    </tr>\n",
              "    <tr>\n",
              "      <th>Belgium</th>\n",
              "      <td>10414336.0</td>\n",
              "      <td>Europe</td>\n",
              "      <td>BEL</td>\n",
              "      <td>389300.0</td>\n",
              "      <td>POLYGON ((3.314971144228537 51.34578095153609,...</td>\n",
              "      <td>y</td>\n",
              "    </tr>\n",
              "    <tr>\n",
              "      <th>Bulgaria</th>\n",
              "      <td>7204687.0</td>\n",
              "      <td>Europe</td>\n",
              "      <td>BGR</td>\n",
              "      <td>93750.0</td>\n",
              "      <td>POLYGON ((22.65714969248299 44.23492300066128,...</td>\n",
              "      <td>y</td>\n",
              "    </tr>\n",
              "    <tr>\n",
              "      <th>Bosnia and Herz.</th>\n",
              "      <td>4613414.0</td>\n",
              "      <td>Europe</td>\n",
              "      <td>BIH</td>\n",
              "      <td>29700.0</td>\n",
              "      <td>POLYGON ((19.00548628101012 44.86023366960916,...</td>\n",
              "      <td>n</td>\n",
              "    </tr>\n",
              "  </tbody>\n",
              "</table>\n",
              "</div>"
            ],
            "text/plain": [
              "                     pop_est continent iso_a3  gdp_md_est  \\\n",
              "name                                                        \n",
              "Albania            3639453.0    Europe    ALB     21810.0   \n",
              "Austria            8210281.0    Europe    AUT    329500.0   \n",
              "Belgium           10414336.0    Europe    BEL    389300.0   \n",
              "Bulgaria           7204687.0    Europe    BGR     93750.0   \n",
              "Bosnia and Herz.   4613414.0    Europe    BIH     29700.0   \n",
              "\n",
              "                                                           geometry been_to  \n",
              "name                                                                         \n",
              "Albania           POLYGON ((20.59024743010491 41.85540416113361,...       n  \n",
              "Austria           POLYGON ((16.97966678230404 48.12349701597631,...       y  \n",
              "Belgium           POLYGON ((3.314971144228537 51.34578095153609,...       y  \n",
              "Bulgaria          POLYGON ((22.65714969248299 44.23492300066128,...       y  \n",
              "Bosnia and Herz.  POLYGON ((19.00548628101012 44.86023366960916,...       n  "
            ]
          },
          "metadata": {
            "tags": []
          },
          "execution_count": 8
        }
      ]
    },
    {
      "metadata": {
        "id": "cFqIBDi-S_Bp",
        "colab_type": "text"
      },
      "cell_type": "markdown",
      "source": [
        "Cool! Geopandas also allows us to plot this using a column to decide on colors. For example, let's plot the countries I've been to in blue, and those I haven't been to yet in red:"
      ]
    },
    {
      "metadata": {
        "id": "cVx1j_eES_Br",
        "colab_type": "code",
        "colab": {
          "base_uri": "https://localhost:8080/",
          "height": 358
        },
        "outputId": "9019b6c5-2784-4c21-c964-83c8487e7664"
      },
      "cell_type": "code",
      "source": [
        "!pip install descartes\n",
        "def plot_geodf(df, plot_args):\n",
        "    return df.plot(**plot_args).set_axis_off()     # axis off not to show coordinates\n",
        "plot_params = {'column':'been_to', 'cmap':'RdBu', 'legend':True, 'figsize':(10, 10)}\n",
        "plot_geodf(eur_countries, plot_params)"
      ],
      "execution_count": 10,
      "outputs": [
        {
          "output_type": "stream",
          "text": [
            "Collecting descartes\n",
            "  Downloading https://files.pythonhosted.org/packages/e5/b6/1ed2eb03989ae574584664985367ba70cd9cf8b32ee8cad0e8aaeac819f3/descartes-1.1.0-py3-none-any.whl\n",
            "Requirement already satisfied: matplotlib in /usr/local/lib/python3.6/dist-packages (from descartes) (2.1.2)\n",
            "Requirement already satisfied: python-dateutil>=2.1 in /usr/local/lib/python3.6/dist-packages (from matplotlib->descartes) (2.5.3)\n",
            "Requirement already satisfied: six>=1.10 in /usr/local/lib/python3.6/dist-packages (from matplotlib->descartes) (1.11.0)\n",
            "Requirement already satisfied: cycler>=0.10 in /usr/local/lib/python3.6/dist-packages (from matplotlib->descartes) (0.10.0)\n",
            "Requirement already satisfied: pyparsing!=2.0.4,!=2.1.2,!=2.1.6,>=2.0.1 in /usr/local/lib/python3.6/dist-packages (from matplotlib->descartes) (2.2.0)\n",
            "Requirement already satisfied: numpy>=1.7.1 in /usr/local/lib/python3.6/dist-packages (from matplotlib->descartes) (1.14.5)\n",
            "Requirement already satisfied: pytz in /usr/local/lib/python3.6/dist-packages (from matplotlib->descartes) (2018.5)\n",
            "Installing collected packages: descartes\n",
            "Successfully installed descartes-1.1.0\n"
          ],
          "name": "stdout"
        },
        {
          "output_type": "display_data",
          "data": {
            "image/png": "[encoded data removed]",
            "text/plain": [
              "<matplotlib.figure.Figure at 0x7fa07fd68a20>"
            ]
          },
          "metadata": {
            "tags": []
          }
        }
      ]
    },
    {
      "metadata": {
        "id": "tpNUuL5VS_Bz",
        "colab_type": "text"
      },
      "cell_type": "markdown",
      "source": [
        "Hey, wait! What's going on here? Well, first we have that Russia is enormous. If we get rid of it:"
      ]
    },
    {
      "metadata": {
        "id": "TvPM7LbIS_B1",
        "colab_type": "code",
        "colab": {
          "base_uri": "https://localhost:8080/",
          "height": 512
        },
        "outputId": "5df46548-9e92-4798-d1ca-215b01410fbc"
      },
      "cell_type": "code",
      "source": [
        "plot_geodf(eur_countries[eur_countries['iso_a3'] != 'RUS'], plot_params)"
      ],
      "execution_count": 11,
      "outputs": [
        {
          "output_type": "display_data",
          "data": {
            "image/png": "[encoded data removed]",
            "text/plain": [
              "<matplotlib.figure.Figure at 0x7fa07fd212e8>"
            ]
          },
          "metadata": {
            "tags": []
          }
        }
      ]
    },
    {
      "metadata": {
        "id": "aMO91qMyS_B9",
        "colab_type": "text"
      },
      "cell_type": "markdown",
      "source": [
        "Better, but we still have French Guiana down there! How do we keep the European part of Russia, while also remove Guiana without removing France? Well, a quick and dirty solution is to compute the bounding box of the rest of countries. Geopandas makes this easy: "
      ]
    },
    {
      "metadata": {
        "id": "JGIMzM0bS_B_",
        "colab_type": "code",
        "colab": {
          "base_uri": "https://localhost:8080/",
          "height": 54
        },
        "outputId": "b9405a33-fdc5-45d5-ef36-8b98d08d4998"
      },
      "cell_type": "code",
      "source": [
        "# Rectangular boundary without France and Russia\n",
        "bounds = eur_countries[(eur_countries['iso_a3'] != 'FRA') & (eur_countries['iso_a3'] != 'RUS')].unary_union.envelope\n",
        "print(bounds)"
      ],
      "execution_count": 12,
      "outputs": [
        {
          "output_type": "stream",
          "text": [
            "POLYGON ((-24.32618404793934 34.91998769788961, 40.08078901546935 34.91998769788961, 40.08078901546935 80.6571442735935, -24.32618404793934 80.6571442735935, -24.32618404793934 34.91998769788961))\n"
          ],
          "name": "stdout"
        }
      ]
    },
    {
      "metadata": {
        "id": "P5m_xjc1S_CH",
        "colab_type": "text"
      },
      "cell_type": "markdown",
      "source": [
        "Quick explanation of the above: we select all countries except France and Russia, mix their geometries into a single polygon (unary union), and then compute the envelope of this pan-European polygon. Note that it is a rectangle.\n",
        "\n",
        "And now, for each country we can modify its geometry, so that it keeps only the part inside the envelope. By the way we computed this envelope, all countries will remain the same except for Russia and France. To keep things clear, we store the result in another dataframe:"
      ]
    },
    {
      "metadata": {
        "id": "eQ_OY72ES_CJ",
        "colab_type": "code",
        "colab": {
          "base_uri": "https://localhost:8080/",
          "height": 235
        },
        "outputId": "74cb9638-7c0a-4f0b-93c0-c4066d9e9dd6"
      },
      "cell_type": "code",
      "source": [
        "# Intersection with boundary\n",
        "aux = eur_countries.intersection(bounds)\n",
        "eur_countries_cropped = eur_countries.copy()\n",
        "eur_countries_cropped.geometry = aux.geometry\n",
        "eur_countries_cropped.head()"
      ],
      "execution_count": 13,
      "outputs": [
        {
          "output_type": "execute_result",
          "data": {
            "text/html": [
              "<div>\n",
              "<style scoped>\n",
              "    .dataframe tbody tr th:only-of-type {\n",
              "        vertical-align: middle;\n",
              "    }\n",
              "\n",
              "    .dataframe tbody tr th {\n",
              "        vertical-align: top;\n",
              "    }\n",
              "\n",
              "    .dataframe thead th {\n",
              "        text-align: right;\n",
              "    }\n",
              "</style>\n",
              "<table border=\"1\" class=\"dataframe\">\n",
              "  <thead>\n",
              "    <tr style=\"text-align: right;\">\n",
              "      <th></th>\n",
              "      <th>pop_est</th>\n",
              "      <th>continent</th>\n",
              "      <th>iso_a3</th>\n",
              "      <th>gdp_md_est</th>\n",
              "      <th>geometry</th>\n",
              "      <th>been_to</th>\n",
              "    </tr>\n",
              "    <tr>\n",
              "      <th>name</th>\n",
              "      <th></th>\n",
              "      <th></th>\n",
              "      <th></th>\n",
              "      <th></th>\n",
              "      <th></th>\n",
              "      <th></th>\n",
              "    </tr>\n",
              "  </thead>\n",
              "  <tbody>\n",
              "    <tr>\n",
              "      <th>Albania</th>\n",
              "      <td>3639453.0</td>\n",
              "      <td>Europe</td>\n",
              "      <td>ALB</td>\n",
              "      <td>21810.0</td>\n",
              "      <td>POLYGON ((20.59024743010491 41.85540416113361,...</td>\n",
              "      <td>n</td>\n",
              "    </tr>\n",
              "    <tr>\n",
              "      <th>Austria</th>\n",
              "      <td>8210281.0</td>\n",
              "      <td>Europe</td>\n",
              "      <td>AUT</td>\n",
              "      <td>329500.0</td>\n",
              "      <td>POLYGON ((16.97966678230404 48.12349701597631,...</td>\n",
              "      <td>y</td>\n",
              "    </tr>\n",
              "    <tr>\n",
              "      <th>Belgium</th>\n",
              "      <td>10414336.0</td>\n",
              "      <td>Europe</td>\n",
              "      <td>BEL</td>\n",
              "      <td>389300.0</td>\n",
              "      <td>POLYGON ((3.314971144228537 51.34578095153609,...</td>\n",
              "      <td>y</td>\n",
              "    </tr>\n",
              "    <tr>\n",
              "      <th>Bulgaria</th>\n",
              "      <td>7204687.0</td>\n",
              "      <td>Europe</td>\n",
              "      <td>BGR</td>\n",
              "      <td>93750.0</td>\n",
              "      <td>POLYGON ((22.65714969248299 44.23492300066128,...</td>\n",
              "      <td>y</td>\n",
              "    </tr>\n",
              "    <tr>\n",
              "      <th>Bosnia and Herz.</th>\n",
              "      <td>4613414.0</td>\n",
              "      <td>Europe</td>\n",
              "      <td>BIH</td>\n",
              "      <td>29700.0</td>\n",
              "      <td>POLYGON ((19.00548628101012 44.86023366960916,...</td>\n",
              "      <td>n</td>\n",
              "    </tr>\n",
              "  </tbody>\n",
              "</table>\n",
              "</div>"
            ],
            "text/plain": [
              "                     pop_est continent iso_a3  gdp_md_est  \\\n",
              "name                                                        \n",
              "Albania            3639453.0    Europe    ALB     21810.0   \n",
              "Austria            8210281.0    Europe    AUT    329500.0   \n",
              "Belgium           10414336.0    Europe    BEL    389300.0   \n",
              "Bulgaria           7204687.0    Europe    BGR     93750.0   \n",
              "Bosnia and Herz.   4613414.0    Europe    BIH     29700.0   \n",
              "\n",
              "                                                           geometry been_to  \n",
              "name                                                                         \n",
              "Albania           POLYGON ((20.59024743010491 41.85540416113361,...       n  \n",
              "Austria           POLYGON ((16.97966678230404 48.12349701597631,...       y  \n",
              "Belgium           POLYGON ((3.314971144228537 51.34578095153609,...       y  \n",
              "Bulgaria          POLYGON ((22.65714969248299 44.23492300066128,...       y  \n",
              "Bosnia and Herz.  POLYGON ((19.00548628101012 44.86023366960916,...       n  "
            ]
          },
          "metadata": {
            "tags": []
          },
          "execution_count": 13
        }
      ]
    },
    {
      "metadata": {
        "id": "VhpsbrY6S_CR",
        "colab_type": "text"
      },
      "cell_type": "markdown",
      "source": [
        "So let's plot again:"
      ]
    },
    {
      "metadata": {
        "id": "TZjrvoNsS_CT",
        "colab_type": "code",
        "colab": {
          "base_uri": "https://localhost:8080/",
          "height": 444
        },
        "outputId": "2b16a2ff-549b-451d-d5ec-9644771f8bef"
      },
      "cell_type": "code",
      "source": [
        "# Final result\n",
        "plot_geodf(eur_countries_cropped, plot_params)"
      ],
      "execution_count": 14,
      "outputs": [
        {
          "output_type": "display_data",
          "data": {
            "image/png": "[encoded data removed]",
            "text/plain": [
              "<matplotlib.figure.Figure at 0x7fa07fcaaeb8>"
            ]
          },
          "metadata": {
            "tags": []
          }
        }
      ]
    },
    {
      "metadata": {
        "id": "KzUxpN_NS_Cd",
        "colab_type": "text"
      },
      "cell_type": "markdown",
      "source": [
        "We got it!"
      ]
    }
  ]
}