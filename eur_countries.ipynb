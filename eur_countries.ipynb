{
 "cells": [
  {
   "cell_type": "code",
   "execution_count": 1,
   "metadata": {},
   "outputs": [],
   "source": [
    "# Geopandas\n",
    "import geopandas as gpd\n",
    "# Inline plots\n",
    "%matplotlib inline"
   ]
  },
  {
   "cell_type": "markdown",
   "metadata": {},
   "source": [
    "Geopandas is a very useful library for geographic manipulations. It also includes some datasets, among which we have one with world countries:"
   ]
  },
  {
   "cell_type": "code",
   "execution_count": 88,
   "metadata": {},
   "outputs": [
    {
     "data": {
      "text/html": [
       "<div>\n",
       "<style scoped>\n",
       "    .dataframe tbody tr th:only-of-type {\n",
       "        vertical-align: middle;\n",
       "    }\n",
       "\n",
       "    .dataframe tbody tr th {\n",
       "        vertical-align: top;\n",
       "    }\n",
       "\n",
       "    .dataframe thead th {\n",
       "        text-align: right;\n",
       "    }\n",
       "</style>\n",
       "<table border=\"1\" class=\"dataframe\">\n",
       "  <thead>\n",
       "    <tr style=\"text-align: right;\">\n",
       "      <th></th>\n",
       "      <th>pop_est</th>\n",
       "      <th>continent</th>\n",
       "      <th>name</th>\n",
       "      <th>iso_a3</th>\n",
       "      <th>gdp_md_est</th>\n",
       "      <th>geometry</th>\n",
       "    </tr>\n",
       "  </thead>\n",
       "  <tbody>\n",
       "    <tr>\n",
       "      <th>0</th>\n",
       "      <td>28400000.0</td>\n",
       "      <td>Asia</td>\n",
       "      <td>Afghanistan</td>\n",
       "      <td>AFG</td>\n",
       "      <td>22270.0</td>\n",
       "      <td>POLYGON ((61.21081709172574 35.65007233330923,...</td>\n",
       "    </tr>\n",
       "    <tr>\n",
       "      <th>1</th>\n",
       "      <td>12799293.0</td>\n",
       "      <td>Africa</td>\n",
       "      <td>Angola</td>\n",
       "      <td>AGO</td>\n",
       "      <td>110300.0</td>\n",
       "      <td>(POLYGON ((16.32652835456705 -5.87747039146621...</td>\n",
       "    </tr>\n",
       "    <tr>\n",
       "      <th>2</th>\n",
       "      <td>3639453.0</td>\n",
       "      <td>Europe</td>\n",
       "      <td>Albania</td>\n",
       "      <td>ALB</td>\n",
       "      <td>21810.0</td>\n",
       "      <td>POLYGON ((20.59024743010491 41.85540416113361,...</td>\n",
       "    </tr>\n",
       "    <tr>\n",
       "      <th>3</th>\n",
       "      <td>4798491.0</td>\n",
       "      <td>Asia</td>\n",
       "      <td>United Arab Emirates</td>\n",
       "      <td>ARE</td>\n",
       "      <td>184300.0</td>\n",
       "      <td>POLYGON ((51.57951867046327 24.24549713795111,...</td>\n",
       "    </tr>\n",
       "    <tr>\n",
       "      <th>4</th>\n",
       "      <td>40913584.0</td>\n",
       "      <td>South America</td>\n",
       "      <td>Argentina</td>\n",
       "      <td>ARG</td>\n",
       "      <td>573900.0</td>\n",
       "      <td>(POLYGON ((-65.50000000000003 -55.199999999999...</td>\n",
       "    </tr>\n",
       "  </tbody>\n",
       "</table>\n",
       "</div>"
      ],
      "text/plain": [
       "      pop_est      continent                  name iso_a3  gdp_md_est  \\\n",
       "0  28400000.0           Asia           Afghanistan    AFG     22270.0   \n",
       "1  12799293.0         Africa                Angola    AGO    110300.0   \n",
       "2   3639453.0         Europe               Albania    ALB     21810.0   \n",
       "3   4798491.0           Asia  United Arab Emirates    ARE    184300.0   \n",
       "4  40913584.0  South America             Argentina    ARG    573900.0   \n",
       "\n",
       "                                            geometry  \n",
       "0  POLYGON ((61.21081709172574 35.65007233330923,...  \n",
       "1  (POLYGON ((16.32652835456705 -5.87747039146621...  \n",
       "2  POLYGON ((20.59024743010491 41.85540416113361,...  \n",
       "3  POLYGON ((51.57951867046327 24.24549713795111,...  \n",
       "4  (POLYGON ((-65.50000000000003 -55.199999999999...  "
      ]
     },
     "execution_count": 88,
     "metadata": {},
     "output_type": "execute_result"
    }
   ],
   "source": [
    "# Read countries\n",
    "countries = gpd.read_file(gpd.datasets.get_path('naturalearth_lowres'))    # already in geopandas\n",
    "countries.head()"
   ]
  },
  {
   "cell_type": "markdown",
   "metadata": {},
   "source": [
    "Let us filter the European countries, and index the dataframe by country name:"
   ]
  },
  {
   "cell_type": "code",
   "execution_count": 89,
   "metadata": {},
   "outputs": [
    {
     "name": "stdout",
     "output_type": "stream",
     "text": [
      "39\n"
     ]
    },
    {
     "data": {
      "text/html": [
       "<div>\n",
       "<style scoped>\n",
       "    .dataframe tbody tr th:only-of-type {\n",
       "        vertical-align: middle;\n",
       "    }\n",
       "\n",
       "    .dataframe tbody tr th {\n",
       "        vertical-align: top;\n",
       "    }\n",
       "\n",
       "    .dataframe thead th {\n",
       "        text-align: right;\n",
       "    }\n",
       "</style>\n",
       "<table border=\"1\" class=\"dataframe\">\n",
       "  <thead>\n",
       "    <tr style=\"text-align: right;\">\n",
       "      <th></th>\n",
       "      <th>pop_est</th>\n",
       "      <th>continent</th>\n",
       "      <th>iso_a3</th>\n",
       "      <th>gdp_md_est</th>\n",
       "      <th>geometry</th>\n",
       "    </tr>\n",
       "    <tr>\n",
       "      <th>name</th>\n",
       "      <th></th>\n",
       "      <th></th>\n",
       "      <th></th>\n",
       "      <th></th>\n",
       "      <th></th>\n",
       "    </tr>\n",
       "  </thead>\n",
       "  <tbody>\n",
       "    <tr>\n",
       "      <th>Albania</th>\n",
       "      <td>3639453.0</td>\n",
       "      <td>Europe</td>\n",
       "      <td>ALB</td>\n",
       "      <td>21810.0</td>\n",
       "      <td>POLYGON ((20.59024743010491 41.85540416113361,...</td>\n",
       "    </tr>\n",
       "    <tr>\n",
       "      <th>Austria</th>\n",
       "      <td>8210281.0</td>\n",
       "      <td>Europe</td>\n",
       "      <td>AUT</td>\n",
       "      <td>329500.0</td>\n",
       "      <td>POLYGON ((16.97966678230404 48.12349701597631,...</td>\n",
       "    </tr>\n",
       "    <tr>\n",
       "      <th>Belgium</th>\n",
       "      <td>10414336.0</td>\n",
       "      <td>Europe</td>\n",
       "      <td>BEL</td>\n",
       "      <td>389300.0</td>\n",
       "      <td>POLYGON ((3.314971144228537 51.34578095153609,...</td>\n",
       "    </tr>\n",
       "    <tr>\n",
       "      <th>Bulgaria</th>\n",
       "      <td>7204687.0</td>\n",
       "      <td>Europe</td>\n",
       "      <td>BGR</td>\n",
       "      <td>93750.0</td>\n",
       "      <td>POLYGON ((22.65714969248299 44.23492300066128,...</td>\n",
       "    </tr>\n",
       "    <tr>\n",
       "      <th>Bosnia and Herz.</th>\n",
       "      <td>4613414.0</td>\n",
       "      <td>Europe</td>\n",
       "      <td>BIH</td>\n",
       "      <td>29700.0</td>\n",
       "      <td>POLYGON ((19.00548628101012 44.86023366960916,...</td>\n",
       "    </tr>\n",
       "  </tbody>\n",
       "</table>\n",
       "</div>"
      ],
      "text/plain": [
       "                     pop_est continent iso_a3  gdp_md_est  \\\n",
       "name                                                        \n",
       "Albania            3639453.0    Europe    ALB     21810.0   \n",
       "Austria            8210281.0    Europe    AUT    329500.0   \n",
       "Belgium           10414336.0    Europe    BEL    389300.0   \n",
       "Bulgaria           7204687.0    Europe    BGR     93750.0   \n",
       "Bosnia and Herz.   4613414.0    Europe    BIH     29700.0   \n",
       "\n",
       "                                                           geometry  \n",
       "name                                                                 \n",
       "Albania           POLYGON ((20.59024743010491 41.85540416113361,...  \n",
       "Austria           POLYGON ((16.97966678230404 48.12349701597631,...  \n",
       "Belgium           POLYGON ((3.314971144228537 51.34578095153609,...  \n",
       "Bulgaria          POLYGON ((22.65714969248299 44.23492300066128,...  \n",
       "Bosnia and Herz.  POLYGON ((19.00548628101012 44.86023366960916,...  "
      ]
     },
     "execution_count": 89,
     "metadata": {},
     "output_type": "execute_result"
    }
   ],
   "source": [
    "# European countries\n",
    "eur_countries = countries.loc[countries['continent'] == 'Europe'].set_index('name')\n",
    "print(len(eur_countries))\n",
    "eur_countries.head()"
   ]
  },
  {
   "cell_type": "markdown",
   "metadata": {},
   "source": [
    "Only 39 countries in Europe? Well, it turns out that this dataset does not include small ones, such as Andorra, Monaco, Liechtenstein, San Marino, etc. Anyway, let's add a column with a flag stating whether I've been to these countries or not:"
   ]
  },
  {
   "cell_type": "code",
   "execution_count": 91,
   "metadata": {},
   "outputs": [
    {
     "name": "stdout",
     "output_type": "stream",
     "text": [
      "Have you been to Albania? (y/n) n\n",
      "Have you been to Austria? (y/n) y\n",
      "Have you been to Belgium? (y/n) y\n",
      "Have you been to Bulgaria? (y/n) y\n",
      "Have you been to Bosnia and Herz.? (y/n) y\n",
      "Have you been to Belarus? (y/n) n\n",
      "Have you been to Switzerland? (y/n) y\n",
      "Have you been to Czech Rep.? (y/n) y\n",
      "Have you been to Germany? (y/n) y\n",
      "Have you been to Denmark? (y/n) y\n",
      "Have you been to Spain? (y/n) y\n",
      "Have you been to Estonia? (y/n) n\n",
      "Have you been to Finland? (y/n) n\n",
      "Have you been to France? (y/n) y\n",
      "Have you been to United Kingdom? (y/n) y\n",
      "Have you been to Greece? (y/n) y\n",
      "Have you been to Croatia? (y/n) y\n",
      "Have you been to Hungary? (y/n) y\n",
      "Have you been to Ireland? (y/n) y\n",
      "Have you been to Iceland? (y/n) n\n",
      "Have you been to Italy? (y/n) y\n",
      "Have you been to Kosovo? (y/n) n\n",
      "Have you been to Lithuania? (y/n) n\n",
      "Have you been to Luxembourg? (y/n) y\n",
      "Have you been to Latvia? (y/n) n\n",
      "Have you been to Moldova? (y/n) n\n",
      "Have you been to Macedonia? (y/n) n\n",
      "Have you been to Montenegro? (y/n) y\n",
      "Have you been to Netherlands? (y/n) y\n",
      "Have you been to Norway? (y/n) n\n",
      "Have you been to Poland? (y/n) y\n",
      "Have you been to Portugal? (y/n) y\n",
      "Have you been to Romania? (y/n) y\n",
      "Have you been to Russia? (y/n) n\n",
      "Have you been to Serbia? (y/n) n\n",
      "Have you been to Slovakia? (y/n) n\n",
      "Have you been to Slovenia? (y/n) y\n",
      "Have you been to Sweden? (y/n) n\n",
      "Have you been to Ukraine? (y/n) n\n"
     ]
    }
   ],
   "source": [
    "# Ask myself whether I've been to these countries, and store answer\n",
    "for c in eur_countries.index:\n",
    "    ans = input(prompt=\"Have you been to {}? (y/n) \".format(c))\n",
    "    eur_countries.loc[c, 'been_to'] = ans"
   ]
  },
  {
   "cell_type": "markdown",
   "metadata": {},
   "source": [
    "And check that the column has been added:"
   ]
  },
  {
   "cell_type": "code",
   "execution_count": 92,
   "metadata": {},
   "outputs": [
    {
     "data": {
      "text/html": [
       "<div>\n",
       "<style scoped>\n",
       "    .dataframe tbody tr th:only-of-type {\n",
       "        vertical-align: middle;\n",
       "    }\n",
       "\n",
       "    .dataframe tbody tr th {\n",
       "        vertical-align: top;\n",
       "    }\n",
       "\n",
       "    .dataframe thead th {\n",
       "        text-align: right;\n",
       "    }\n",
       "</style>\n",
       "<table border=\"1\" class=\"dataframe\">\n",
       "  <thead>\n",
       "    <tr style=\"text-align: right;\">\n",
       "      <th></th>\n",
       "      <th>pop_est</th>\n",
       "      <th>continent</th>\n",
       "      <th>iso_a3</th>\n",
       "      <th>gdp_md_est</th>\n",
       "      <th>geometry</th>\n",
       "      <th>been_to</th>\n",
       "    </tr>\n",
       "    <tr>\n",
       "      <th>name</th>\n",
       "      <th></th>\n",
       "      <th></th>\n",
       "      <th></th>\n",
       "      <th></th>\n",
       "      <th></th>\n",
       "      <th></th>\n",
       "    </tr>\n",
       "  </thead>\n",
       "  <tbody>\n",
       "    <tr>\n",
       "      <th>Albania</th>\n",
       "      <td>3639453.0</td>\n",
       "      <td>Europe</td>\n",
       "      <td>ALB</td>\n",
       "      <td>21810.0</td>\n",
       "      <td>POLYGON ((20.59024743010491 41.85540416113361,...</td>\n",
       "      <td>n</td>\n",
       "    </tr>\n",
       "    <tr>\n",
       "      <th>Austria</th>\n",
       "      <td>8210281.0</td>\n",
       "      <td>Europe</td>\n",
       "      <td>AUT</td>\n",
       "      <td>329500.0</td>\n",
       "      <td>POLYGON ((16.97966678230404 48.12349701597631,...</td>\n",
       "      <td>y</td>\n",
       "    </tr>\n",
       "    <tr>\n",
       "      <th>Belgium</th>\n",
       "      <td>10414336.0</td>\n",
       "      <td>Europe</td>\n",
       "      <td>BEL</td>\n",
       "      <td>389300.0</td>\n",
       "      <td>POLYGON ((3.314971144228537 51.34578095153609,...</td>\n",
       "      <td>y</td>\n",
       "    </tr>\n",
       "    <tr>\n",
       "      <th>Bulgaria</th>\n",
       "      <td>7204687.0</td>\n",
       "      <td>Europe</td>\n",
       "      <td>BGR</td>\n",
       "      <td>93750.0</td>\n",
       "      <td>POLYGON ((22.65714969248299 44.23492300066128,...</td>\n",
       "      <td>y</td>\n",
       "    </tr>\n",
       "    <tr>\n",
       "      <th>Bosnia and Herz.</th>\n",
       "      <td>4613414.0</td>\n",
       "      <td>Europe</td>\n",
       "      <td>BIH</td>\n",
       "      <td>29700.0</td>\n",
       "      <td>POLYGON ((19.00548628101012 44.86023366960916,...</td>\n",
       "      <td>y</td>\n",
       "    </tr>\n",
       "  </tbody>\n",
       "</table>\n",
       "</div>"
      ],
      "text/plain": [
       "                     pop_est continent iso_a3  gdp_md_est  \\\n",
       "name                                                        \n",
       "Albania            3639453.0    Europe    ALB     21810.0   \n",
       "Austria            8210281.0    Europe    AUT    329500.0   \n",
       "Belgium           10414336.0    Europe    BEL    389300.0   \n",
       "Bulgaria           7204687.0    Europe    BGR     93750.0   \n",
       "Bosnia and Herz.   4613414.0    Europe    BIH     29700.0   \n",
       "\n",
       "                                                           geometry been_to  \n",
       "name                                                                         \n",
       "Albania           POLYGON ((20.59024743010491 41.85540416113361,...       n  \n",
       "Austria           POLYGON ((16.97966678230404 48.12349701597631,...       y  \n",
       "Belgium           POLYGON ((3.314971144228537 51.34578095153609,...       y  \n",
       "Bulgaria          POLYGON ((22.65714969248299 44.23492300066128,...       y  \n",
       "Bosnia and Herz.  POLYGON ((19.00548628101012 44.86023366960916,...       y  "
      ]
     },
     "execution_count": 92,
     "metadata": {},
     "output_type": "execute_result"
    }
   ],
   "source": [
    "eur_countries.head()"
   ]
  },
  {
   "cell_type": "markdown",
   "metadata": {},
   "source": [
    "Cool! Geopandas also allows us to plot this using a column to decide on colors. For example, let's plot the countries I've been to in blue, and those I haven't been to yet in red:"
   ]
  },
  {
   "cell_type": "code",
   "execution_count": 109,
   "metadata": {},
   "outputs": [
    {
     "data": {
      "image/png": "[encoded data removed]",
      "text/plain": [
       "<Figure size 720x720 with 1 Axes>"
      ]
     },
     "metadata": {
      "needs_background": "light"
     },
     "output_type": "display_data"
    }
   ],
   "source": [
    "ax = eur_countries.plot(column='been_to', cmap='RdBu', legend=True, figsize=(10, 10))\n",
    "_ = ax.set_axis_off()"
   ]
  },
  {
   "cell_type": "markdown",
   "metadata": {},
   "source": [
    "Hey, wait! What's going on here? Well, first we have that Russia is enormous. If we get rid of it:"
   ]
  },
  {
   "cell_type": "code",
   "execution_count": 108,
   "metadata": {},
   "outputs": [
    {
     "data": {
      "image/png": "[encoded data removed]",
      "text/plain": [
       "<Figure size 720x720 with 1 Axes>"
      ]
     },
     "metadata": {
      "needs_background": "light"
     },
     "output_type": "display_data"
    }
   ],
   "source": [
    "ax = eur_countries[eur_countries['iso_a3'] != 'RUS'].plot(column='been_to', cmap='RdBu', legend=True, figsize=(10, 10))\n",
    "_ = ax.set_axis_off()"
   ]
  },
  {
   "cell_type": "markdown",
   "metadata": {},
   "source": [
    "Better, but we still have French Guiana down there! How do we keep the European part of Russia, while also remove Guiana without removing France? Well, a quick and dirty solution is to compute the bounding box of the rest of countries. Geopandas makes this easy: "
   ]
  },
  {
   "cell_type": "code",
   "execution_count": 101,
   "metadata": {},
   "outputs": [
    {
     "name": "stdout",
     "output_type": "stream",
     "text": [
      "POLYGON ((-24.32618404793934 34.91998769788961, 40.08078901546935 34.91998769788961, 40.08078901546935 80.6571442735935, -24.32618404793934 80.6571442735935, -24.32618404793934 34.91998769788961))\n"
     ]
    }
   ],
   "source": [
    "# Rectangular boundary without France and Russia\n",
    "bounds = eur_countries[(eur_countries['iso_a3'] != 'FRA') & (eur_countries['iso_a3'] != 'RUS')].unary_union.envelope\n",
    "print(bounds)"
   ]
  },
  {
   "cell_type": "markdown",
   "metadata": {},
   "source": [
    "Quick explanation of the above: we select all countries except France and Russia, mix their geometries into a single polygon (unary union), and then compute the envelope of this pan-European polygon. Note that it is a rectangle.\n",
    "\n",
    "And now, for each country we can modify its geometry, so that it keeps only the part inside the envelope. By the way we computed this envelope, all countries will remain the same except for Russia and France. To keep things clear, we store the result in another dataframe:"
   ]
  },
  {
   "cell_type": "code",
   "execution_count": 102,
   "metadata": {},
   "outputs": [
    {
     "data": {
      "text/html": [
       "<div>\n",
       "<style scoped>\n",
       "    .dataframe tbody tr th:only-of-type {\n",
       "        vertical-align: middle;\n",
       "    }\n",
       "\n",
       "    .dataframe tbody tr th {\n",
       "        vertical-align: top;\n",
       "    }\n",
       "\n",
       "    .dataframe thead th {\n",
       "        text-align: right;\n",
       "    }\n",
       "</style>\n",
       "<table border=\"1\" class=\"dataframe\">\n",
       "  <thead>\n",
       "    <tr style=\"text-align: right;\">\n",
       "      <th></th>\n",
       "      <th>pop_est</th>\n",
       "      <th>continent</th>\n",
       "      <th>iso_a3</th>\n",
       "      <th>gdp_md_est</th>\n",
       "      <th>geometry</th>\n",
       "      <th>been_to</th>\n",
       "    </tr>\n",
       "    <tr>\n",
       "      <th>name</th>\n",
       "      <th></th>\n",
       "      <th></th>\n",
       "      <th></th>\n",
       "      <th></th>\n",
       "      <th></th>\n",
       "      <th></th>\n",
       "    </tr>\n",
       "  </thead>\n",
       "  <tbody>\n",
       "    <tr>\n",
       "      <th>Albania</th>\n",
       "      <td>3639453.0</td>\n",
       "      <td>Europe</td>\n",
       "      <td>ALB</td>\n",
       "      <td>21810.0</td>\n",
       "      <td>POLYGON ((20.59024743010491 41.85540416113361,...</td>\n",
       "      <td>n</td>\n",
       "    </tr>\n",
       "    <tr>\n",
       "      <th>Austria</th>\n",
       "      <td>8210281.0</td>\n",
       "      <td>Europe</td>\n",
       "      <td>AUT</td>\n",
       "      <td>329500.0</td>\n",
       "      <td>POLYGON ((16.97966678230404 48.12349701597631,...</td>\n",
       "      <td>y</td>\n",
       "    </tr>\n",
       "    <tr>\n",
       "      <th>Belgium</th>\n",
       "      <td>10414336.0</td>\n",
       "      <td>Europe</td>\n",
       "      <td>BEL</td>\n",
       "      <td>389300.0</td>\n",
       "      <td>POLYGON ((3.314971144228537 51.34578095153609,...</td>\n",
       "      <td>y</td>\n",
       "    </tr>\n",
       "    <tr>\n",
       "      <th>Bulgaria</th>\n",
       "      <td>7204687.0</td>\n",
       "      <td>Europe</td>\n",
       "      <td>BGR</td>\n",
       "      <td>93750.0</td>\n",
       "      <td>POLYGON ((22.65714969248299 44.23492300066128,...</td>\n",
       "      <td>y</td>\n",
       "    </tr>\n",
       "    <tr>\n",
       "      <th>Bosnia and Herz.</th>\n",
       "      <td>4613414.0</td>\n",
       "      <td>Europe</td>\n",
       "      <td>BIH</td>\n",
       "      <td>29700.0</td>\n",
       "      <td>POLYGON ((19.00548628101012 44.86023366960916,...</td>\n",
       "      <td>y</td>\n",
       "    </tr>\n",
       "  </tbody>\n",
       "</table>\n",
       "</div>"
      ],
      "text/plain": [
       "                     pop_est continent iso_a3  gdp_md_est  \\\n",
       "name                                                        \n",
       "Albania            3639453.0    Europe    ALB     21810.0   \n",
       "Austria            8210281.0    Europe    AUT    329500.0   \n",
       "Belgium           10414336.0    Europe    BEL    389300.0   \n",
       "Bulgaria           7204687.0    Europe    BGR     93750.0   \n",
       "Bosnia and Herz.   4613414.0    Europe    BIH     29700.0   \n",
       "\n",
       "                                                           geometry been_to  \n",
       "name                                                                         \n",
       "Albania           POLYGON ((20.59024743010491 41.85540416113361,...       n  \n",
       "Austria           POLYGON ((16.97966678230404 48.12349701597631,...       y  \n",
       "Belgium           POLYGON ((3.314971144228537 51.34578095153609,...       y  \n",
       "Bulgaria          POLYGON ((22.65714969248299 44.23492300066128,...       y  \n",
       "Bosnia and Herz.  POLYGON ((19.00548628101012 44.86023366960916,...       y  "
      ]
     },
     "execution_count": 102,
     "metadata": {},
     "output_type": "execute_result"
    }
   ],
   "source": [
    "# Intersection with boundary\n",
    "aux = eur_countries.intersection(bounds)\n",
    "eur_countries_cropped = eur_countries.copy()\n",
    "eur_countries_cropped.geometry = aux.geometry\n",
    "eur_countries_cropped.head()"
   ]
  },
  {
   "cell_type": "markdown",
   "metadata": {},
   "source": [
    "So let's plot again:"
   ]
  },
  {
   "cell_type": "code",
   "execution_count": 107,
   "metadata": {},
   "outputs": [
    {
     "data": {
      "image/png": "[encoded data removed]",
      "text/plain": [
       "<Figure size 720x720 with 1 Axes>"
      ]
     },
     "metadata": {
      "needs_background": "light"
     },
     "output_type": "display_data"
    }
   ],
   "source": [
    "# Final result\n",
    "ax = eur_countries_cropped.plot(column='been_to', cmap='RdBu', figsize=(10, 10))\n",
    "_ = ax.set_axis_off()"
   ]
  },
  {
   "cell_type": "markdown",
   "metadata": {},
   "source": [
    "We got it! You can see that I've been to:\n",
    "* All Western Europe (well, not yet to Andorra, Liechtenstein nor San Marino!).\n",
    "* Nearly all Central Europe (except for Slovakia).\n",
    "* Some of the Balkans (Serbia, Kosovo, Albania and Macedonia still to be explored).\n",
    "\n",
    "Whereas there are regions I am still to discover:\n",
    "* Scandinavia (Norway, Sweden, Finland) and Iceland.\n",
    "* Most of Eastern Europe (Estonia, Latvia, Lithuania, Belarus, Ukraine and Moldova).\n",
    "* Russia.\n",
    "\n",
    "So which of these do you think should be my next European trip? Suggestions welcome!"
   ]
  }
 ],
 "metadata": {
  "kernelspec": {
   "display_name": "Python 3",
   "language": "python",
   "name": "python3"
  },
  "language_info": {
   "codemirror_mode": {
    "name": "ipython",
    "version": 3
   },
   "file_extension": ".py",
   "mimetype": "text/x-python",
   "name": "python",
   "nbconvert_exporter": "python",
   "pygments_lexer": "ipython3",
   "version": "3.6.6"
  }
 },
 "nbformat": 4,
 "nbformat_minor": 2
}
